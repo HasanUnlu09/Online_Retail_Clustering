{
 "cells": [
  {
   "cell_type": "markdown",
   "id": "a885cefc-1eeb-434b-9b2f-6b54fa378274",
   "metadata": {},
   "source": [
    "---"
   ]
  },
  {
   "cell_type": "markdown",
   "id": "5b57dbe2",
   "metadata": {},
   "source": [
    "Data is obtained from [UCI ML Repository - Online Retail](https://archive.ics.uci.edu/dataset/352/online+retail) with .xlxs extension.\\\n",
    "\\\n",
    "Citation: \\\n",
    "Online Retail. (2015). UCI Machine Learning Repository. \\\n",
    "https://doi.org/10.24432/C5BW33."
   ]
  },
  {
   "cell_type": "markdown",
   "id": "de1cd576-48e4-40e5-9837-8e6aa58b8315",
   "metadata": {},
   "source": [
    "---"
   ]
  }
 ],
 "metadata": {
  "kernelspec": {
   "display_name": "Python 3 (ipykernel)",
   "language": "python",
   "name": "python3"
  },
  "language_info": {
   "codemirror_mode": {
    "name": "ipython",
    "version": 3
   },
   "file_extension": ".py",
   "mimetype": "text/x-python",
   "name": "python",
   "nbconvert_exporter": "python",
   "pygments_lexer": "ipython3",
   "version": "3.11.3"
  }
 },
 "nbformat": 4,
 "nbformat_minor": 5
}
