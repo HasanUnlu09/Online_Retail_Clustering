{
 "cells": [
  {
   "cell_type": "markdown",
   "id": "c49c8369-fa79-49a1-8edc-5a3ba49de41f",
   "metadata": {},
   "source": [
    "# RFM Data Preparing"
   ]
  },
  {
   "cell_type": "markdown",
   "id": "2f471bff-47e0-4507-a0e9-6091811d92df",
   "metadata": {},
   "source": [
    "In this project, customers need to be segmented in order to understand which customers should be focused on. Therefore, **RFM Analysis** is used to understand segmentation. In the RFM analysis, a customer is evaluated by following considerations; Recency, Frequency and Monetary.\n",
    "- **Recency**: how much time passed since the last purchase for a customer\n",
    "- **Frequency**: how often a customer purchase\n",
    "- **Monetary**: how much money a customer spend"
   ]
  },
  {
   "cell_type": "markdown",
   "id": "133a21fc-102b-4937-a58f-77ffdb2e6824",
   "metadata": {},
   "source": [
    "There are 6 parts in this file in order to prepare a proper clustering file.\n",
    "\n",
    "1. <a href='#customerid_section'><b>CustomerID</b></a>\n",
    "2. <a href='#recency_section'><b>Recency</b></a>\n",
    "3. <a href='#frequency_section'><b>Frequency</b></a>\n",
    "4. <a href='#monetary_section'><b>Monetary</b></a>\n",
    "5. <a href='#country_section'><b>Country</b></a>\n",
    "6. <a href='#data_storing_section'><b>Data Storing</b></a>"
   ]
  },
  {
   "cell_type": "markdown",
   "id": "471b2a2f-46c4-41d6-b075-830f420a6bf4",
   "metadata": {},
   "source": [
    "---"
   ]
  },
  {
   "cell_type": "markdown",
   "id": "00c0cc0e-a0d5-4e4a-b3a6-adeae2a4c6ed",
   "metadata": {},
   "source": [
    "## Data Read"
   ]
  },
  {
   "cell_type": "code",
   "execution_count": 1,
   "id": "f1d079d1-4fb5-448f-9a6d-06faf5185251",
   "metadata": {},
   "outputs": [],
   "source": [
    "import pandas as pd"
   ]
  },
  {
   "cell_type": "code",
   "execution_count": 2,
   "id": "4f8cf17b-dede-42aa-a6f9-99a1e973dde8",
   "metadata": {},
   "outputs": [],
   "source": [
    "cleaned_data = pd.read_csv('Cleaned_Data.csv')"
   ]
  },
  {
   "cell_type": "code",
   "execution_count": 3,
   "id": "629f871b-addf-44e7-a7eb-3ec983f6e88f",
   "metadata": {},
   "outputs": [
    {
     "data": {
      "text/html": [
       "<div>\n",
       "<style scoped>\n",
       "    .dataframe tbody tr th:only-of-type {\n",
       "        vertical-align: middle;\n",
       "    }\n",
       "\n",
       "    .dataframe tbody tr th {\n",
       "        vertical-align: top;\n",
       "    }\n",
       "\n",
       "    .dataframe thead th {\n",
       "        text-align: right;\n",
       "    }\n",
       "</style>\n",
       "<table border=\"1\" class=\"dataframe\">\n",
       "  <thead>\n",
       "    <tr style=\"text-align: right;\">\n",
       "      <th></th>\n",
       "      <th>InvoiceNo</th>\n",
       "      <th>StockCode</th>\n",
       "      <th>Description</th>\n",
       "      <th>Quantity</th>\n",
       "      <th>InvoiceDate</th>\n",
       "      <th>UnitPrice</th>\n",
       "      <th>CustomerID</th>\n",
       "      <th>Country</th>\n",
       "    </tr>\n",
       "  </thead>\n",
       "  <tbody>\n",
       "    <tr>\n",
       "      <th>0</th>\n",
       "      <td>536365</td>\n",
       "      <td>85123A</td>\n",
       "      <td>WHITE HANGING HEART T-LIGHT HOLDER</td>\n",
       "      <td>6</td>\n",
       "      <td>2010-12-01 08:26:00</td>\n",
       "      <td>2.55</td>\n",
       "      <td>17850.0</td>\n",
       "      <td>United Kingdom</td>\n",
       "    </tr>\n",
       "    <tr>\n",
       "      <th>1</th>\n",
       "      <td>536365</td>\n",
       "      <td>71053</td>\n",
       "      <td>WHITE METAL LANTERN</td>\n",
       "      <td>6</td>\n",
       "      <td>2010-12-01 08:26:00</td>\n",
       "      <td>3.39</td>\n",
       "      <td>17850.0</td>\n",
       "      <td>United Kingdom</td>\n",
       "    </tr>\n",
       "    <tr>\n",
       "      <th>2</th>\n",
       "      <td>536365</td>\n",
       "      <td>84406B</td>\n",
       "      <td>CREAM CUPID HEARTS COAT HANGER</td>\n",
       "      <td>8</td>\n",
       "      <td>2010-12-01 08:26:00</td>\n",
       "      <td>2.75</td>\n",
       "      <td>17850.0</td>\n",
       "      <td>United Kingdom</td>\n",
       "    </tr>\n",
       "    <tr>\n",
       "      <th>3</th>\n",
       "      <td>536365</td>\n",
       "      <td>84029G</td>\n",
       "      <td>KNITTED UNION FLAG HOT WATER BOTTLE</td>\n",
       "      <td>6</td>\n",
       "      <td>2010-12-01 08:26:00</td>\n",
       "      <td>3.39</td>\n",
       "      <td>17850.0</td>\n",
       "      <td>United Kingdom</td>\n",
       "    </tr>\n",
       "    <tr>\n",
       "      <th>4</th>\n",
       "      <td>536365</td>\n",
       "      <td>84029E</td>\n",
       "      <td>RED WOOLLY HOTTIE WHITE HEART.</td>\n",
       "      <td>6</td>\n",
       "      <td>2010-12-01 08:26:00</td>\n",
       "      <td>3.39</td>\n",
       "      <td>17850.0</td>\n",
       "      <td>United Kingdom</td>\n",
       "    </tr>\n",
       "    <tr>\n",
       "      <th>...</th>\n",
       "      <td>...</td>\n",
       "      <td>...</td>\n",
       "      <td>...</td>\n",
       "      <td>...</td>\n",
       "      <td>...</td>\n",
       "      <td>...</td>\n",
       "      <td>...</td>\n",
       "      <td>...</td>\n",
       "    </tr>\n",
       "    <tr>\n",
       "      <th>406824</th>\n",
       "      <td>581587</td>\n",
       "      <td>22613</td>\n",
       "      <td>PACK OF 20 SPACEBOY NAPKINS</td>\n",
       "      <td>12</td>\n",
       "      <td>2011-12-09 12:50:00</td>\n",
       "      <td>0.85</td>\n",
       "      <td>12680.0</td>\n",
       "      <td>France</td>\n",
       "    </tr>\n",
       "    <tr>\n",
       "      <th>406825</th>\n",
       "      <td>581587</td>\n",
       "      <td>22899</td>\n",
       "      <td>CHILDREN'S APRON DOLLY GIRL</td>\n",
       "      <td>6</td>\n",
       "      <td>2011-12-09 12:50:00</td>\n",
       "      <td>2.10</td>\n",
       "      <td>12680.0</td>\n",
       "      <td>France</td>\n",
       "    </tr>\n",
       "    <tr>\n",
       "      <th>406826</th>\n",
       "      <td>581587</td>\n",
       "      <td>23254</td>\n",
       "      <td>CHILDRENS CUTLERY DOLLY GIRL</td>\n",
       "      <td>4</td>\n",
       "      <td>2011-12-09 12:50:00</td>\n",
       "      <td>4.15</td>\n",
       "      <td>12680.0</td>\n",
       "      <td>France</td>\n",
       "    </tr>\n",
       "    <tr>\n",
       "      <th>406827</th>\n",
       "      <td>581587</td>\n",
       "      <td>23255</td>\n",
       "      <td>CHILDRENS CUTLERY CIRCUS PARADE</td>\n",
       "      <td>4</td>\n",
       "      <td>2011-12-09 12:50:00</td>\n",
       "      <td>4.15</td>\n",
       "      <td>12680.0</td>\n",
       "      <td>France</td>\n",
       "    </tr>\n",
       "    <tr>\n",
       "      <th>406828</th>\n",
       "      <td>581587</td>\n",
       "      <td>22138</td>\n",
       "      <td>BAKING SET 9 PIECE RETROSPOT</td>\n",
       "      <td>3</td>\n",
       "      <td>2011-12-09 12:50:00</td>\n",
       "      <td>4.95</td>\n",
       "      <td>12680.0</td>\n",
       "      <td>France</td>\n",
       "    </tr>\n",
       "  </tbody>\n",
       "</table>\n",
       "<p>406829 rows × 8 columns</p>\n",
       "</div>"
      ],
      "text/plain": [
       "       InvoiceNo StockCode                          Description  Quantity  \\\n",
       "0         536365    85123A   WHITE HANGING HEART T-LIGHT HOLDER         6   \n",
       "1         536365     71053                  WHITE METAL LANTERN         6   \n",
       "2         536365    84406B       CREAM CUPID HEARTS COAT HANGER         8   \n",
       "3         536365    84029G  KNITTED UNION FLAG HOT WATER BOTTLE         6   \n",
       "4         536365    84029E       RED WOOLLY HOTTIE WHITE HEART.         6   \n",
       "...          ...       ...                                  ...       ...   \n",
       "406824    581587     22613          PACK OF 20 SPACEBOY NAPKINS        12   \n",
       "406825    581587     22899         CHILDREN'S APRON DOLLY GIRL          6   \n",
       "406826    581587     23254        CHILDRENS CUTLERY DOLLY GIRL          4   \n",
       "406827    581587     23255      CHILDRENS CUTLERY CIRCUS PARADE         4   \n",
       "406828    581587     22138        BAKING SET 9 PIECE RETROSPOT          3   \n",
       "\n",
       "                InvoiceDate  UnitPrice  CustomerID         Country  \n",
       "0       2010-12-01 08:26:00       2.55     17850.0  United Kingdom  \n",
       "1       2010-12-01 08:26:00       3.39     17850.0  United Kingdom  \n",
       "2       2010-12-01 08:26:00       2.75     17850.0  United Kingdom  \n",
       "3       2010-12-01 08:26:00       3.39     17850.0  United Kingdom  \n",
       "4       2010-12-01 08:26:00       3.39     17850.0  United Kingdom  \n",
       "...                     ...        ...         ...             ...  \n",
       "406824  2011-12-09 12:50:00       0.85     12680.0          France  \n",
       "406825  2011-12-09 12:50:00       2.10     12680.0          France  \n",
       "406826  2011-12-09 12:50:00       4.15     12680.0          France  \n",
       "406827  2011-12-09 12:50:00       4.15     12680.0          France  \n",
       "406828  2011-12-09 12:50:00       4.95     12680.0          France  \n",
       "\n",
       "[406829 rows x 8 columns]"
      ]
     },
     "execution_count": 3,
     "metadata": {},
     "output_type": "execute_result"
    }
   ],
   "source": [
    "cleaned_data"
   ]
  },
  {
   "cell_type": "markdown",
   "id": "d47454ec-ebdc-4aa1-b329-eb7105465c77",
   "metadata": {},
   "source": [
    "---"
   ]
  },
  {
   "cell_type": "code",
   "execution_count": 4,
   "id": "440db537-536f-42ba-b9d3-771b58e664c7",
   "metadata": {},
   "outputs": [],
   "source": [
    "# empty clustering data frame\n",
    "rfm_clusters = pd.DataFrame()"
   ]
  },
  {
   "cell_type": "markdown",
   "id": "4cc14730-72ba-4000-b5ea-8f41e3a862ab",
   "metadata": {},
   "source": [
    "---"
   ]
  },
  {
   "cell_type": "markdown",
   "id": "7d297b6a-9c2e-47b3-935f-bbf756fefb57",
   "metadata": {},
   "source": [
    "<a id='customerid_section'></a>\n",
    "## 1. CustomerID"
   ]
  },
  {
   "cell_type": "markdown",
   "id": "c69d6120-3c8b-4569-a089-3a033d723e21",
   "metadata": {},
   "source": [
    "Customers are sorted as ascending trend and assigned to the rfm_clusters data frame."
   ]
  },
  {
   "cell_type": "code",
   "execution_count": 5,
   "id": "77a263ea-b27d-4e15-b29a-eefbd4336002",
   "metadata": {},
   "outputs": [],
   "source": [
    "rfm_clusters['CustomerID'] = cleaned_data['CustomerID'].unique()"
   ]
  },
  {
   "cell_type": "code",
   "execution_count": 6,
   "id": "4d30244b-d888-4707-b89d-2e2506826072",
   "metadata": {
    "scrolled": true
   },
   "outputs": [],
   "source": [
    "rfm_clusters['CustomerID'] = rfm_clusters.loc[:,'CustomerID'].sort_values(ascending=True).reset_index(drop=True)"
   ]
  },
  {
   "cell_type": "code",
   "execution_count": 7,
   "id": "b5be1c39-adc1-4bb1-8ce0-89b3dab1d59d",
   "metadata": {},
   "outputs": [
    {
     "data": {
      "text/html": [
       "<div>\n",
       "<style scoped>\n",
       "    .dataframe tbody tr th:only-of-type {\n",
       "        vertical-align: middle;\n",
       "    }\n",
       "\n",
       "    .dataframe tbody tr th {\n",
       "        vertical-align: top;\n",
       "    }\n",
       "\n",
       "    .dataframe thead th {\n",
       "        text-align: right;\n",
       "    }\n",
       "</style>\n",
       "<table border=\"1\" class=\"dataframe\">\n",
       "  <thead>\n",
       "    <tr style=\"text-align: right;\">\n",
       "      <th></th>\n",
       "      <th>CustomerID</th>\n",
       "    </tr>\n",
       "  </thead>\n",
       "  <tbody>\n",
       "    <tr>\n",
       "      <th>0</th>\n",
       "      <td>12346.0</td>\n",
       "    </tr>\n",
       "    <tr>\n",
       "      <th>1</th>\n",
       "      <td>12347.0</td>\n",
       "    </tr>\n",
       "    <tr>\n",
       "      <th>2</th>\n",
       "      <td>12348.0</td>\n",
       "    </tr>\n",
       "    <tr>\n",
       "      <th>3</th>\n",
       "      <td>12349.0</td>\n",
       "    </tr>\n",
       "    <tr>\n",
       "      <th>4</th>\n",
       "      <td>12350.0</td>\n",
       "    </tr>\n",
       "  </tbody>\n",
       "</table>\n",
       "</div>"
      ],
      "text/plain": [
       "   CustomerID\n",
       "0     12346.0\n",
       "1     12347.0\n",
       "2     12348.0\n",
       "3     12349.0\n",
       "4     12350.0"
      ]
     },
     "execution_count": 7,
     "metadata": {},
     "output_type": "execute_result"
    }
   ],
   "source": [
    "rfm_clusters.head()"
   ]
  },
  {
   "cell_type": "markdown",
   "id": "b2f4d149-67c7-4296-a609-fe76667928ae",
   "metadata": {},
   "source": [
    "<a id='recency_section'></a>\n",
    "## 2. Recency"
   ]
  },
  {
   "cell_type": "markdown",
   "id": "86396d67-6aeb-426e-861f-252266e28307",
   "metadata": {},
   "source": [
    "In this part, time that has passed from the last transaction is determined for each customer."
   ]
  },
  {
   "cell_type": "code",
   "execution_count": 8,
   "id": "5350b952-e281-4f87-8962-9cf5df9c7c6f",
   "metadata": {},
   "outputs": [],
   "source": [
    "import datetime as dt"
   ]
  },
  {
   "cell_type": "code",
   "execution_count": 9,
   "id": "c6c3abec-ef0a-480e-9089-3e62776213e0",
   "metadata": {},
   "outputs": [],
   "source": [
    "# At the data cleaning step, data type for the InvoiceDate is lost to object data type. \n",
    "# Thus, object type is casted to datetime type.\n",
    "cleaned_data['InvoiceDate'] = pd.to_datetime(cleaned_data['InvoiceDate'])"
   ]
  },
  {
   "cell_type": "code",
   "execution_count": 10,
   "id": "594c9f51-6001-46f5-bffb-ce0a5b81462d",
   "metadata": {},
   "outputs": [],
   "source": [
    "# A new column as Time_Difference is added to the cleaned_data. So, that last transaction duration can be detected.\n",
    "cleaned_data['Time_Difference'] = cleaned_data['InvoiceDate'].max() - cleaned_data['InvoiceDate']"
   ]
  },
  {
   "cell_type": "code",
   "execution_count": 11,
   "id": "e84b6d20-ca46-4ae8-b956-9c9f44a5fc68",
   "metadata": {
    "scrolled": true
   },
   "outputs": [],
   "source": [
    "# The minimum time difference for each customer is found and \n",
    "#  assigned to the rfm_clusters data frame under TimeDifference feature by merging. \n",
    "# In this way, time duration from the last transaction could be found for each customer.\n",
    "time_difference = cleaned_data.groupby('CustomerID')[['Time_Difference']].min()\n",
    "rfm_clusters = pd.merge(rfm_clusters, time_difference, how='inner', on='CustomerID')"
   ]
  },
  {
   "cell_type": "code",
   "execution_count": 12,
   "id": "6f49219c-2e45-4f1d-ba46-dc667a4d89e3",
   "metadata": {
    "scrolled": true
   },
   "outputs": [],
   "source": [
    "# Time_Difference column in the rfm_clusters data frame is renamed as Recency\n",
    "rfm_clusters.rename(columns={'Time_Difference':'Recency'}, inplace=True)"
   ]
  },
  {
   "cell_type": "code",
   "execution_count": 13,
   "id": "cd95d188-5f8b-4283-80dd-18480d436e0a",
   "metadata": {},
   "outputs": [],
   "source": [
    "# Timestamp is cleared as only days\n",
    "rfm_clusters['Recency'] = rfm_clusters['Recency'].dt.days"
   ]
  },
  {
   "cell_type": "code",
   "execution_count": 14,
   "id": "740c1d93-7757-4cab-8cc3-0f9a1dde80d5",
   "metadata": {},
   "outputs": [
    {
     "data": {
      "text/html": [
       "<div>\n",
       "<style scoped>\n",
       "    .dataframe tbody tr th:only-of-type {\n",
       "        vertical-align: middle;\n",
       "    }\n",
       "\n",
       "    .dataframe tbody tr th {\n",
       "        vertical-align: top;\n",
       "    }\n",
       "\n",
       "    .dataframe thead th {\n",
       "        text-align: right;\n",
       "    }\n",
       "</style>\n",
       "<table border=\"1\" class=\"dataframe\">\n",
       "  <thead>\n",
       "    <tr style=\"text-align: right;\">\n",
       "      <th></th>\n",
       "      <th>CustomerID</th>\n",
       "      <th>Recency</th>\n",
       "    </tr>\n",
       "  </thead>\n",
       "  <tbody>\n",
       "    <tr>\n",
       "      <th>0</th>\n",
       "      <td>12346.0</td>\n",
       "      <td>325</td>\n",
       "    </tr>\n",
       "    <tr>\n",
       "      <th>1</th>\n",
       "      <td>12347.0</td>\n",
       "      <td>1</td>\n",
       "    </tr>\n",
       "    <tr>\n",
       "      <th>2</th>\n",
       "      <td>12348.0</td>\n",
       "      <td>74</td>\n",
       "    </tr>\n",
       "    <tr>\n",
       "      <th>3</th>\n",
       "      <td>12349.0</td>\n",
       "      <td>18</td>\n",
       "    </tr>\n",
       "    <tr>\n",
       "      <th>4</th>\n",
       "      <td>12350.0</td>\n",
       "      <td>309</td>\n",
       "    </tr>\n",
       "  </tbody>\n",
       "</table>\n",
       "</div>"
      ],
      "text/plain": [
       "   CustomerID  Recency\n",
       "0     12346.0      325\n",
       "1     12347.0        1\n",
       "2     12348.0       74\n",
       "3     12349.0       18\n",
       "4     12350.0      309"
      ]
     },
     "execution_count": 14,
     "metadata": {},
     "output_type": "execute_result"
    }
   ],
   "source": [
    "rfm_clusters.head()"
   ]
  },
  {
   "cell_type": "markdown",
   "id": "acacc5f1-6b8e-4356-8960-1d5e7c9f4b6e",
   "metadata": {},
   "source": [
    "<a id='frequency_section'></a>\n",
    "## 3. Frequency"
   ]
  },
  {
   "cell_type": "markdown",
   "id": "4ffbc479-7e2b-47cb-921c-5b61573fd984",
   "metadata": {},
   "source": [
    "In this part, it is determined how often a customer purchased.\n",
    "\r\n"
   ]
  },
  {
   "cell_type": "code",
   "execution_count": 15,
   "id": "3f9deb4d-2fd2-4d1e-a77e-914d421d4c64",
   "metadata": {
    "scrolled": true
   },
   "outputs": [],
   "source": [
    "# Count of invoice for each customer is determined and assigned to rfm_clusters data frame\n",
    "invoice_count = cleaned_data.groupby('CustomerID')[['InvoiceNo']].count()\n",
    "rfm_clusters = pd.merge(rfm_clusters, invoice_count, how='inner', on='CustomerID')"
   ]
  },
  {
   "cell_type": "code",
   "execution_count": 16,
   "id": "961daf66-0f1c-4aa0-8c4e-ddfef1798cf0",
   "metadata": {},
   "outputs": [],
   "source": [
    "# column name for frequency is renamed after merged operation\n",
    "rfm_clusters.rename(columns={'InvoiceNo':'Frequency'}, inplace=True)"
   ]
  },
  {
   "cell_type": "code",
   "execution_count": 17,
   "id": "2188d5b8-73ad-4894-8467-441a0aa9eb67",
   "metadata": {},
   "outputs": [
    {
     "data": {
      "text/html": [
       "<div>\n",
       "<style scoped>\n",
       "    .dataframe tbody tr th:only-of-type {\n",
       "        vertical-align: middle;\n",
       "    }\n",
       "\n",
       "    .dataframe tbody tr th {\n",
       "        vertical-align: top;\n",
       "    }\n",
       "\n",
       "    .dataframe thead th {\n",
       "        text-align: right;\n",
       "    }\n",
       "</style>\n",
       "<table border=\"1\" class=\"dataframe\">\n",
       "  <thead>\n",
       "    <tr style=\"text-align: right;\">\n",
       "      <th></th>\n",
       "      <th>CustomerID</th>\n",
       "      <th>Recency</th>\n",
       "      <th>Frequency</th>\n",
       "    </tr>\n",
       "  </thead>\n",
       "  <tbody>\n",
       "    <tr>\n",
       "      <th>0</th>\n",
       "      <td>12346.0</td>\n",
       "      <td>325</td>\n",
       "      <td>2</td>\n",
       "    </tr>\n",
       "    <tr>\n",
       "      <th>1</th>\n",
       "      <td>12347.0</td>\n",
       "      <td>1</td>\n",
       "      <td>182</td>\n",
       "    </tr>\n",
       "    <tr>\n",
       "      <th>2</th>\n",
       "      <td>12348.0</td>\n",
       "      <td>74</td>\n",
       "      <td>31</td>\n",
       "    </tr>\n",
       "    <tr>\n",
       "      <th>3</th>\n",
       "      <td>12349.0</td>\n",
       "      <td>18</td>\n",
       "      <td>73</td>\n",
       "    </tr>\n",
       "    <tr>\n",
       "      <th>4</th>\n",
       "      <td>12350.0</td>\n",
       "      <td>309</td>\n",
       "      <td>17</td>\n",
       "    </tr>\n",
       "  </tbody>\n",
       "</table>\n",
       "</div>"
      ],
      "text/plain": [
       "   CustomerID  Recency  Frequency\n",
       "0     12346.0      325          2\n",
       "1     12347.0        1        182\n",
       "2     12348.0       74         31\n",
       "3     12349.0       18         73\n",
       "4     12350.0      309         17"
      ]
     },
     "execution_count": 17,
     "metadata": {},
     "output_type": "execute_result"
    }
   ],
   "source": [
    "rfm_clusters.head()"
   ]
  },
  {
   "cell_type": "markdown",
   "id": "b3a8bbe4-93c2-4320-95ad-cfc1aad07f23",
   "metadata": {},
   "source": [
    "<a id='monetary_section'></a>\n",
    "## 4. Monetary"
   ]
  },
  {
   "cell_type": "markdown",
   "id": "f25cb297-0256-4091-bda5-554190c28b07",
   "metadata": {},
   "source": [
    "In this part, total spend is determined for each customer."
   ]
  },
  {
   "cell_type": "code",
   "execution_count": 18,
   "id": "8bb58a63-ab28-4057-a2a7-0838d5b4fd5a",
   "metadata": {},
   "outputs": [],
   "source": [
    "# Total spend for every row is calculated and assigned into a new column in cleaned data\n",
    "cleaned_data['Total_Spend'] = cleaned_data['UnitPrice'] * cleaned_data['Quantity']"
   ]
  },
  {
   "cell_type": "code",
   "execution_count": 19,
   "id": "aebe1eb1-b1b7-420b-935a-04928946694b",
   "metadata": {},
   "outputs": [],
   "source": [
    "# Total spend for each customer is determined and assigned into rrfm_cluster dataframe\n",
    "total_spend = cleaned_data.groupby('CustomerID')[['Total_Spend']].sum()\n",
    "rfm_clusters = pd.merge(rfm_clusters, total_spend, how='inner', on='CustomerID')"
   ]
  },
  {
   "cell_type": "code",
   "execution_count": 20,
   "id": "2d05519d-696c-4228-9d56-907ca9594b70",
   "metadata": {},
   "outputs": [],
   "source": [
    "# column name for monetary is renamed after merged operation\n",
    "rfm_clusters.rename(columns={'Total_Spend':'Monetary'}, inplace=True)"
   ]
  },
  {
   "cell_type": "code",
   "execution_count": 21,
   "id": "6a4924c0-85d1-44b7-96a6-a7ce34585804",
   "metadata": {},
   "outputs": [
    {
     "data": {
      "text/html": [
       "<div>\n",
       "<style scoped>\n",
       "    .dataframe tbody tr th:only-of-type {\n",
       "        vertical-align: middle;\n",
       "    }\n",
       "\n",
       "    .dataframe tbody tr th {\n",
       "        vertical-align: top;\n",
       "    }\n",
       "\n",
       "    .dataframe thead th {\n",
       "        text-align: right;\n",
       "    }\n",
       "</style>\n",
       "<table border=\"1\" class=\"dataframe\">\n",
       "  <thead>\n",
       "    <tr style=\"text-align: right;\">\n",
       "      <th></th>\n",
       "      <th>CustomerID</th>\n",
       "      <th>Recency</th>\n",
       "      <th>Frequency</th>\n",
       "      <th>Monetary</th>\n",
       "    </tr>\n",
       "  </thead>\n",
       "  <tbody>\n",
       "    <tr>\n",
       "      <th>0</th>\n",
       "      <td>12346.0</td>\n",
       "      <td>325</td>\n",
       "      <td>2</td>\n",
       "      <td>0.00</td>\n",
       "    </tr>\n",
       "    <tr>\n",
       "      <th>1</th>\n",
       "      <td>12347.0</td>\n",
       "      <td>1</td>\n",
       "      <td>182</td>\n",
       "      <td>4310.00</td>\n",
       "    </tr>\n",
       "    <tr>\n",
       "      <th>2</th>\n",
       "      <td>12348.0</td>\n",
       "      <td>74</td>\n",
       "      <td>31</td>\n",
       "      <td>1797.24</td>\n",
       "    </tr>\n",
       "    <tr>\n",
       "      <th>3</th>\n",
       "      <td>12349.0</td>\n",
       "      <td>18</td>\n",
       "      <td>73</td>\n",
       "      <td>1757.55</td>\n",
       "    </tr>\n",
       "    <tr>\n",
       "      <th>4</th>\n",
       "      <td>12350.0</td>\n",
       "      <td>309</td>\n",
       "      <td>17</td>\n",
       "      <td>334.40</td>\n",
       "    </tr>\n",
       "  </tbody>\n",
       "</table>\n",
       "</div>"
      ],
      "text/plain": [
       "   CustomerID  Recency  Frequency  Monetary\n",
       "0     12346.0      325          2      0.00\n",
       "1     12347.0        1        182   4310.00\n",
       "2     12348.0       74         31   1797.24\n",
       "3     12349.0       18         73   1757.55\n",
       "4     12350.0      309         17    334.40"
      ]
     },
     "execution_count": 21,
     "metadata": {},
     "output_type": "execute_result"
    }
   ],
   "source": [
    "rfm_clusters.head()"
   ]
  },
  {
   "cell_type": "markdown",
   "id": "296d1013-3af3-4696-9427-a6e182208fb3",
   "metadata": {},
   "source": [
    "<a id='country_section'></a>\n",
    "## 5. Country"
   ]
  },
  {
   "cell_type": "markdown",
   "id": "aecd62d7-38d2-4c5b-830d-e9ab7d573f6d",
   "metadata": {},
   "source": [
    "In this part, the transaction country for each customer is determined."
   ]
  },
  {
   "cell_type": "code",
   "execution_count": 22,
   "id": "3b62911c-35a3-41eb-9bae-d1337d25fade",
   "metadata": {},
   "outputs": [],
   "source": [
    "for i in range(0,len(rfm_clusters)):\n",
    "    cust_id = rfm_clusters.loc[i,'CustomerID']\n",
    "    country = cleaned_data[cleaned_data.loc[:,'CustomerID'] == cust_id]['Country'].unique()[0]\n",
    "    rfm_clusters.loc[i,'Country'] = country "
   ]
  },
  {
   "cell_type": "code",
   "execution_count": 23,
   "id": "5e083da2-c6d5-41ea-9cca-36c7258f4e65",
   "metadata": {},
   "outputs": [
    {
     "data": {
      "text/html": [
       "<div>\n",
       "<style scoped>\n",
       "    .dataframe tbody tr th:only-of-type {\n",
       "        vertical-align: middle;\n",
       "    }\n",
       "\n",
       "    .dataframe tbody tr th {\n",
       "        vertical-align: top;\n",
       "    }\n",
       "\n",
       "    .dataframe thead th {\n",
       "        text-align: right;\n",
       "    }\n",
       "</style>\n",
       "<table border=\"1\" class=\"dataframe\">\n",
       "  <thead>\n",
       "    <tr style=\"text-align: right;\">\n",
       "      <th></th>\n",
       "      <th>CustomerID</th>\n",
       "      <th>Recency</th>\n",
       "      <th>Frequency</th>\n",
       "      <th>Monetary</th>\n",
       "      <th>Country</th>\n",
       "    </tr>\n",
       "  </thead>\n",
       "  <tbody>\n",
       "    <tr>\n",
       "      <th>0</th>\n",
       "      <td>12346.0</td>\n",
       "      <td>325</td>\n",
       "      <td>2</td>\n",
       "      <td>0.00</td>\n",
       "      <td>United Kingdom</td>\n",
       "    </tr>\n",
       "    <tr>\n",
       "      <th>1</th>\n",
       "      <td>12347.0</td>\n",
       "      <td>1</td>\n",
       "      <td>182</td>\n",
       "      <td>4310.00</td>\n",
       "      <td>Iceland</td>\n",
       "    </tr>\n",
       "    <tr>\n",
       "      <th>2</th>\n",
       "      <td>12348.0</td>\n",
       "      <td>74</td>\n",
       "      <td>31</td>\n",
       "      <td>1797.24</td>\n",
       "      <td>Finland</td>\n",
       "    </tr>\n",
       "    <tr>\n",
       "      <th>3</th>\n",
       "      <td>12349.0</td>\n",
       "      <td>18</td>\n",
       "      <td>73</td>\n",
       "      <td>1757.55</td>\n",
       "      <td>Italy</td>\n",
       "    </tr>\n",
       "    <tr>\n",
       "      <th>4</th>\n",
       "      <td>12350.0</td>\n",
       "      <td>309</td>\n",
       "      <td>17</td>\n",
       "      <td>334.40</td>\n",
       "      <td>Norway</td>\n",
       "    </tr>\n",
       "  </tbody>\n",
       "</table>\n",
       "</div>"
      ],
      "text/plain": [
       "   CustomerID  Recency  Frequency  Monetary         Country\n",
       "0     12346.0      325          2      0.00  United Kingdom\n",
       "1     12347.0        1        182   4310.00         Iceland\n",
       "2     12348.0       74         31   1797.24         Finland\n",
       "3     12349.0       18         73   1757.55           Italy\n",
       "4     12350.0      309         17    334.40          Norway"
      ]
     },
     "execution_count": 23,
     "metadata": {},
     "output_type": "execute_result"
    }
   ],
   "source": [
    "rfm_clusters.head()"
   ]
  },
  {
   "cell_type": "markdown",
   "id": "bc285efd-89e1-440b-93e2-0504122a4fa5",
   "metadata": {},
   "source": [
    "<a id='data_storing_section'></a>\n",
    "## 6. Data Storing"
   ]
  },
  {
   "cell_type": "markdown",
   "id": "a1bc305c-88ff-41f9-adea-b01475f55e29",
   "metadata": {},
   "source": [
    "In this part, the prepared rfm_clusters dataset is stored with proper file format."
   ]
  },
  {
   "cell_type": "code",
   "execution_count": 24,
   "id": "67f6f0e3-c020-4b11-bf5d-edfa2a19b719",
   "metadata": {},
   "outputs": [],
   "source": [
    "rfm_clusters.to_csv('RFM_Clusters.csv', index=False)"
   ]
  },
  {
   "cell_type": "markdown",
   "id": "6c6f99f2-bd1a-4d31-9d74-92e9ea624845",
   "metadata": {},
   "source": [
    "---"
   ]
  }
 ],
 "metadata": {
  "kernelspec": {
   "display_name": "Python 3 (ipykernel)",
   "language": "python",
   "name": "python3"
  },
  "language_info": {
   "codemirror_mode": {
    "name": "ipython",
    "version": 3
   },
   "file_extension": ".py",
   "mimetype": "text/x-python",
   "name": "python",
   "nbconvert_exporter": "python",
   "pygments_lexer": "ipython3",
   "version": "3.11.3"
  }
 },
 "nbformat": 4,
 "nbformat_minor": 5
}
