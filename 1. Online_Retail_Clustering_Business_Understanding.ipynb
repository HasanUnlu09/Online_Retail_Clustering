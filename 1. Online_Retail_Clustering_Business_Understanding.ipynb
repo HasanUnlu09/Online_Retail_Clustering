{
 "cells": [
  {
   "cell_type": "markdown",
   "id": "10672744-855c-47f0-8df9-a55e2cd546a4",
   "metadata": {},
   "source": [
    "---"
   ]
  },
  {
   "cell_type": "markdown",
   "id": "da8291d4",
   "metadata": {},
   "source": [
    "In this project, customers are divided into segments in order to understand which customers should be targeted for more profit and efficiency."
   ]
  },
  {
   "cell_type": "markdown",
   "id": "868cada3-2db1-4743-beab-7ee870c0efe3",
   "metadata": {},
   "source": [
    "---"
   ]
  }
 ],
 "metadata": {
  "kernelspec": {
   "display_name": "Python 3 (ipykernel)",
   "language": "python",
   "name": "python3"
  },
  "language_info": {
   "codemirror_mode": {
    "name": "ipython",
    "version": 3
   },
   "file_extension": ".py",
   "mimetype": "text/x-python",
   "name": "python",
   "nbconvert_exporter": "python",
   "pygments_lexer": "ipython3",
   "version": "3.11.3"
  }
 },
 "nbformat": 4,
 "nbformat_minor": 5
}
